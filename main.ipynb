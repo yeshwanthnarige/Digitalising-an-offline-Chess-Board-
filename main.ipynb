{
  "nbformat": 4,
  "nbformat_minor": 0,
  "metadata": {
    "accelerator": "GPU",
    "colab": {
      "name": "Untitled13.ipynb",
      "provenance": [],
      "mount_file_id": "1d2Z2bqySl8xdUlR-1OLPZkxuSC3WJ_QP",
      "authorship_tag": "ABX9TyOwpRIJAhEUV+OaTA+8bkRK",
      "include_colab_link": true
    },
    "kernelspec": {
      "display_name": "Python 3",
      "name": "python3"
    },
    "language_info": {
      "name": "python"
    }
  },
  "cells": [
    {
      "cell_type": "markdown",
      "metadata": {
        "id": "view-in-github",
        "colab_type": "text"
      },
      "source": [
        "<a href=\"https://colab.research.google.com/github/varshith264/Digitalising-an-offline-Chess-Board-/blob/main/main.ipynb\" target=\"_parent\"><img src=\"https://colab.research.google.com/assets/colab-badge.svg\" alt=\"Open In Colab\"/></a>"
      ]
    },
    {
      "cell_type": "code",
      "metadata": {
        "id": "UxJHiPULl_rQ"
      },
      "source": [
        "from google.colab import drive\n",
        "drive.mount('/content/drive')"
      ],
      "execution_count": null,
      "outputs": []
    },
    {
      "cell_type": "code",
      "metadata": {
        "id": "GjRQHIt3mdkH"
      },
      "source": [
        "import numpy as np\n",
        "import tensorflow as tf\n",
        "from tensorflow import keras\n",
        "from tensorflow.keras import layers\n",
        "from keras.models import load_model\n",
        "from keras.models import Sequential\n",
        "from keras.layers import Dense, Conv2D, MaxPooling2D, Flatten\n",
        "from keras.models import Model\n",
        "from keras.applications.vgg16 import VGG16\n",
        "from keras.applications.imagenet_utils import decode_predictions\n",
        "from keras.preprocessing.image import ImageDataGenerator\n",
        "from keras.applications.vgg19 import VGG19\n",
        "from keras.applications.imagenet_utils import decode_predictions\n",
        "import seaborn as sn\n",
        "import matplotlib.pyplot as plt\n",
        "import pandas as pd\n",
        "from sklearn.metrics import classification_report, confusion_matrix\n",
        "\n"
      ],
      "execution_count": null,
      "outputs": []
    },
    {
      "cell_type": "code",
      "metadata": {
        "id": "-uecAHTzmgMe"
      },
      "source": [
        "folder = '/content/drive/MyDrive/splitted_data'\n",
        "image_size = (224, 224)\n",
        "batch_size = 32\n",
        "test_datagen = ImageDataGenerator(rescale=1./255)"
      ],
      "execution_count": null,
      "outputs": []
    },
    {
      "cell_type": "code",
      "metadata": {
        "id": "y_oL3gJTqRPH"
      },
      "source": [
        "datagen = ImageDataGenerator(\n",
        "        rotation_range=5,\n",
        "        # width_shift_range=0.1,\n",
        "        # height_shift_range=0.1,\n",
        "        rescale=1./255,\n",
        "        horizontal_flip=True,\n",
        "        fill_mode='nearest')\n"
      ],
      "execution_count": null,
      "outputs": []
    },
    {
      "cell_type": "code",
      "metadata": {
        "colab": {
          "base_uri": "https://localhost:8080/"
        },
        "id": "_6egw_LeqZ4_",
        "outputId": "1f9a8cdd-d346-4305-e61e-31196128b975"
      },
      "source": [
        "train_gen = datagen.flow_from_directory(\n",
        "    folder + '/train',\n",
        "    target_size = image_size,\n",
        "    batch_size = batch_size,\n",
        "    class_mode = 'categorical',\n",
        "    color_mode = 'rgb',\n",
        "    shuffle=True  \n",
        ")\n",
        "\n",
        "test_gen = test_datagen.flow_from_directory(\n",
        "    folder + '/test',\n",
        "    target_size = image_size,\n",
        "    batch_size = batch_size,\n",
        "    class_mode = 'categorical',\n",
        "    color_mode = 'rgb',\n",
        "    shuffle=False \n",
        ")"
      ],
      "execution_count": null,
      "outputs": [
        {
          "output_type": "stream",
          "text": [
            "Found 1597 images belonging to 13 classes.\n",
            "Found 810 images belonging to 13 classes.\n"
          ],
          "name": "stdout"
        }
      ]
    },
    {
      "cell_type": "code",
      "metadata": {
        "colab": {
          "base_uri": "https://localhost:8080/"
        },
        "id": "-xS-AThsz04U",
        "outputId": "e64312aa-00ce-441b-e84a-289ab5b8cfb1"
      },
      "source": [
        "base_model = VGG16(weights='imagenet', include_top=False, input_shape=(224,224,3)) \n",
        " \n",
        "# Freeze convolutional layers\n",
        "for layer in base_model.layers:\n",
        "    layer.trainable = False    \n",
        "\n",
        "# Establish new fully connected block\n",
        "x = base_model.output\n",
        "x = Flatten()(x)  # flatten from convolution tensor output  \n",
        "x = Dense(500, activation='relu')(x) # number of layers and units are hyperparameters, as usual\n",
        "x = Dense(500, activation='relu')(x)\n",
        "predictions = Dense(13, activation='softmax')(x) # should match # of classes predicted\n",
        "\n"
      ],
      "execution_count": null,
      "outputs": [
        {
          "output_type": "stream",
          "text": [
            "Downloading data from https://storage.googleapis.com/tensorflow/keras-applications/vgg16/vgg16_weights_tf_dim_ordering_tf_kernels_notop.h5\n",
            "58892288/58889256 [==============================] - 0s 0us/step\n"
          ],
          "name": "stdout"
        }
      ]
    },
    {
      "cell_type": "code",
      "metadata": {
        "colab": {
          "base_uri": "https://localhost:8080/"
        },
        "id": "p_te-NeFsJ62",
        "outputId": "2c59020f-df72-42fd-9fa4-f5dd4962835b"
      },
      "source": [
        "# this is the model we will train\n",
        "model = Model(inputs=base_model.input, outputs=predictions)\n",
        "model.compile(optimizer='adam', loss='categorical_crossentropy', metrics=['categorical_accuracy'])\n",
        "\n",
        "model.summary()\n"
      ],
      "execution_count": null,
      "outputs": [
        {
          "output_type": "stream",
          "text": [
            "Model: \"model\"\n",
            "_________________________________________________________________\n",
            "Layer (type)                 Output Shape              Param #   \n",
            "=================================================================\n",
            "input_1 (InputLayer)         [(None, 224, 224, 3)]     0         \n",
            "_________________________________________________________________\n",
            "block1_conv1 (Conv2D)        (None, 224, 224, 64)      1792      \n",
            "_________________________________________________________________\n",
            "block1_conv2 (Conv2D)        (None, 224, 224, 64)      36928     \n",
            "_________________________________________________________________\n",
            "block1_pool (MaxPooling2D)   (None, 112, 112, 64)      0         \n",
            "_________________________________________________________________\n",
            "block2_conv1 (Conv2D)        (None, 112, 112, 128)     73856     \n",
            "_________________________________________________________________\n",
            "block2_conv2 (Conv2D)        (None, 112, 112, 128)     147584    \n",
            "_________________________________________________________________\n",
            "block2_pool (MaxPooling2D)   (None, 56, 56, 128)       0         \n",
            "_________________________________________________________________\n",
            "block3_conv1 (Conv2D)        (None, 56, 56, 256)       295168    \n",
            "_________________________________________________________________\n",
            "block3_conv2 (Conv2D)        (None, 56, 56, 256)       590080    \n",
            "_________________________________________________________________\n",
            "block3_conv3 (Conv2D)        (None, 56, 56, 256)       590080    \n",
            "_________________________________________________________________\n",
            "block3_pool (MaxPooling2D)   (None, 28, 28, 256)       0         \n",
            "_________________________________________________________________\n",
            "block4_conv1 (Conv2D)        (None, 28, 28, 512)       1180160   \n",
            "_________________________________________________________________\n",
            "block4_conv2 (Conv2D)        (None, 28, 28, 512)       2359808   \n",
            "_________________________________________________________________\n",
            "block4_conv3 (Conv2D)        (None, 28, 28, 512)       2359808   \n",
            "_________________________________________________________________\n",
            "block4_pool (MaxPooling2D)   (None, 14, 14, 512)       0         \n",
            "_________________________________________________________________\n",
            "block5_conv1 (Conv2D)        (None, 14, 14, 512)       2359808   \n",
            "_________________________________________________________________\n",
            "block5_conv2 (Conv2D)        (None, 14, 14, 512)       2359808   \n",
            "_________________________________________________________________\n",
            "block5_conv3 (Conv2D)        (None, 14, 14, 512)       2359808   \n",
            "_________________________________________________________________\n",
            "block5_pool (MaxPooling2D)   (None, 7, 7, 512)         0         \n",
            "_________________________________________________________________\n",
            "flatten (Flatten)            (None, 25088)             0         \n",
            "_________________________________________________________________\n",
            "dense (Dense)                (None, 500)               12544500  \n",
            "_________________________________________________________________\n",
            "dense_1 (Dense)              (None, 500)               250500    \n",
            "_________________________________________________________________\n",
            "dense_2 (Dense)              (None, 13)                6513      \n",
            "=================================================================\n",
            "Total params: 27,516,201\n",
            "Trainable params: 12,801,513\n",
            "Non-trainable params: 14,714,688\n",
            "_________________________________________________________________\n"
          ],
          "name": "stdout"
        }
      ]
    },
    {
      "cell_type": "code",
      "metadata": {
        "colab": {
          "base_uri": "https://localhost:8080/"
        },
        "id": "71Muvgm-tqol",
        "outputId": "d0c5b3fc-cfd7-4a11-ee67-f68d6f732598"
      },
      "source": [
        "epochs = 10\n",
        "\n",
        "history = model.fit(\n",
        "    train_gen, \n",
        "    epochs=epochs,\n",
        "    verbose = 1,\n",
        "    validation_data=test_gen\n",
        "    )\n",
        "model.save_weights('model_VGG16.h5')"
      ],
      "execution_count": null,
      "outputs": [
        {
          "output_type": "stream",
          "text": [
            "Epoch 1/10\n",
            "50/50 [==============================] - 658s 13s/step - loss: 3.7139 - categorical_accuracy: 0.1937 - val_loss: 1.4479 - val_categorical_accuracy: 0.4704\n",
            "Epoch 2/10\n",
            "50/50 [==============================] - 22s 444ms/step - loss: 1.1079 - categorical_accuracy: 0.6255 - val_loss: 0.9461 - val_categorical_accuracy: 0.6679\n",
            "Epoch 3/10\n",
            "50/50 [==============================] - 22s 445ms/step - loss: 0.6010 - categorical_accuracy: 0.8008 - val_loss: 0.7756 - val_categorical_accuracy: 0.7284\n",
            "Epoch 4/10\n",
            "50/50 [==============================] - 22s 449ms/step - loss: 0.3918 - categorical_accuracy: 0.8759 - val_loss: 0.6456 - val_categorical_accuracy: 0.7716\n",
            "Epoch 5/10\n",
            "50/50 [==============================] - 22s 447ms/step - loss: 0.2761 - categorical_accuracy: 0.9235 - val_loss: 0.5186 - val_categorical_accuracy: 0.8247\n",
            "Epoch 6/10\n",
            "50/50 [==============================] - 22s 449ms/step - loss: 0.1941 - categorical_accuracy: 0.9410 - val_loss: 0.5265 - val_categorical_accuracy: 0.8358\n",
            "Epoch 7/10\n",
            "50/50 [==============================] - 23s 454ms/step - loss: 0.1654 - categorical_accuracy: 0.9508 - val_loss: 0.5283 - val_categorical_accuracy: 0.8309\n",
            "Epoch 8/10\n",
            "50/50 [==============================] - 22s 447ms/step - loss: 0.1738 - categorical_accuracy: 0.9477 - val_loss: 0.5888 - val_categorical_accuracy: 0.8259\n",
            "Epoch 9/10\n",
            "50/50 [==============================] - 22s 448ms/step - loss: 0.0955 - categorical_accuracy: 0.9742 - val_loss: 0.9092 - val_categorical_accuracy: 0.7519\n",
            "Epoch 10/10\n",
            "50/50 [==============================] - 22s 445ms/step - loss: 0.1826 - categorical_accuracy: 0.9367 - val_loss: 0.5391 - val_categorical_accuracy: 0.8333\n"
          ],
          "name": "stdout"
        }
      ]
    },
    {
      "cell_type": "code",
      "metadata": {
        "colab": {
          "base_uri": "https://localhost:8080/",
          "height": 295
        },
        "id": "waFVLGm6tvCF",
        "outputId": "c38b1f7c-5b0d-45c6-8c38-43f557377b9a"
      },
      "source": [
        "plt.plot(history.history['categorical_accuracy'], 'ko')\n",
        "plt.plot(history.history['val_categorical_accuracy'], 'b')\n",
        "\n",
        "plt.title('Accuracy vs Training Epoch')\n",
        "plt.xlabel('Epoch')\n",
        "plt.ylabel('Accuracy')\n",
        "plt.legend(['Train', 'Validation']);\n",
        "\n"
      ],
      "execution_count": null,
      "outputs": [
        {
          "output_type": "display_data",
          "data": {
            "image/png": "[encoded data removed]",
            "text/plain": [
              "<Figure size 432x288 with 1 Axes>"
            ]
          },
          "metadata": {
            "tags": []
          }
        }
      ]
    },
    {
      "cell_type": "code",
      "metadata": {
        "colab": {
          "base_uri": "https://localhost:8080/"
        },
        "id": "DCYWsYfluA2i",
        "outputId": "654e2084-8c0c-49a2-a96f-642b0e3c0487"
      },
      "source": [
        "test_gen.reset()\n",
        "Y_pred = model.predict_generator(test_gen)\n",
        "classes = test_gen.classes[test_gen.index_array]\n",
        "y_pred = np.argmax(Y_pred, axis= -1)\n",
        "# print(sum(y_pred==classes)/810)\n",
        "\n",
        "target_names = ['BB', 'BK', 'BN', 'BP', 'BQ', 'BR', 'Empty', 'WB', 'WK', 'WN', 'WP', 'WQ', 'WR']\n",
        "\n",
        "print(classification_report(test_gen.classes[test_gen.index_array], y_pred, target_names=target_names))"
      ],
      "execution_count": null,
      "outputs": [
        {
          "output_type": "stream",
          "text": [
            "/usr/local/lib/python3.7/dist-packages/tensorflow/python/keras/engine/training.py:1905: UserWarning: `Model.predict_generator` is deprecated and will be removed in a future version. Please use `Model.predict`, which supports generators.\n",
            "  warnings.warn('`Model.predict_generator` is deprecated and '\n"
          ],
          "name": "stderr"
        },
        {
          "output_type": "stream",
          "text": [
            "              precision    recall  f1-score   support\n",
            "\n",
            "          BB       0.96      0.75      0.84        67\n",
            "          BK       0.73      0.77      0.75        35\n",
            "          BN       0.74      0.83      0.78        58\n",
            "          BP       0.97      0.92      0.94        65\n",
            "          BQ       0.68      0.95      0.79        62\n",
            "          BR       0.84      0.69      0.75        67\n",
            "       Empty       0.97      0.97      0.97        71\n",
            "          WB       0.93      0.71      0.80        72\n",
            "          WK       0.78      0.86      0.82        37\n",
            "          WN       0.74      0.80      0.77        69\n",
            "          WP       0.89      0.87      0.88        67\n",
            "          WQ       0.80      0.88      0.84        67\n",
            "          WR       0.85      0.84      0.84        73\n",
            "\n",
            "    accuracy                           0.83       810\n",
            "   macro avg       0.84      0.83      0.83       810\n",
            "weighted avg       0.85      0.83      0.83       810\n",
            "\n"
          ],
          "name": "stdout"
        }
      ]
    },
    {
      "cell_type": "code",
      "metadata": {
        "colab": {
          "base_uri": "https://localhost:8080/"
        },
        "id": "MR_Q0o3QuCwq",
        "outputId": "9ffb5163-0d6a-4968-e95d-11acc4a9be85"
      },
      "source": [
        "base_model_two = VGG19(weights='imagenet', include_top=False, input_shape=(224,224,3)) \n",
        " \n",
        "# Freeze convolutional layers\n",
        "for layer in base_model_two.layers:\n",
        "    layer.trainable = False    \n",
        "\n",
        "# Establish new fully connected block\n",
        "x = base_model_two.output\n",
        "x = Flatten()(x)  # flatten from convolution tensor output  \n",
        "x = Dense(500, activation='relu')(x) # number of layers and units are hyperparameters, as usual\n",
        "x = Dense(500, activation='relu')(x)\n",
        "predictions = Dense(13, activation='softmax')(x) # should match # of classes predicted\n",
        "\n"
      ],
      "execution_count": null,
      "outputs": [
        {
          "output_type": "stream",
          "text": [
            "Downloading data from https://storage.googleapis.com/tensorflow/keras-applications/vgg19/vgg19_weights_tf_dim_ordering_tf_kernels_notop.h5\n",
            "80142336/80134624 [==============================] - 0s 0us/step\n"
          ],
          "name": "stdout"
        }
      ]
    },
    {
      "cell_type": "code",
      "metadata": {
        "colab": {
          "base_uri": "https://localhost:8080/"
        },
        "id": "dGTKyxwLyJ4G",
        "outputId": "119ab4c7-90ba-4289-9567-fe4c8e6a1206"
      },
      "source": [
        "# this is the model we will train\n",
        "model_two = Model(inputs=base_model_two.input, outputs=predictions)\n",
        "model_two.compile(optimizer='adam', loss='categorical_crossentropy', metrics=['accuracy'])\n",
        "\n",
        "model_two.summary()"
      ],
      "execution_count": null,
      "outputs": [
        {
          "output_type": "stream",
          "text": [
            "Model: \"model_1\"\n",
            "_________________________________________________________________\n",
            "Layer (type)                 Output Shape              Param #   \n",
            "=================================================================\n",
            "input_2 (InputLayer)         [(None, 224, 224, 3)]     0         \n",
            "_________________________________________________________________\n",
            "block1_conv1 (Conv2D)        (None, 224, 224, 64)      1792      \n",
            "_________________________________________________________________\n",
            "block1_conv2 (Conv2D)        (None, 224, 224, 64)      36928     \n",
            "_________________________________________________________________\n",
            "block1_pool (MaxPooling2D)   (None, 112, 112, 64)      0         \n",
            "_________________________________________________________________\n",
            "block2_conv1 (Conv2D)        (None, 112, 112, 128)     73856     \n",
            "_________________________________________________________________\n",
            "block2_conv2 (Conv2D)        (None, 112, 112, 128)     147584    \n",
            "_________________________________________________________________\n",
            "block2_pool (MaxPooling2D)   (None, 56, 56, 128)       0         \n",
            "_________________________________________________________________\n",
            "block3_conv1 (Conv2D)        (None, 56, 56, 256)       295168    \n",
            "_________________________________________________________________\n",
            "block3_conv2 (Conv2D)        (None, 56, 56, 256)       590080    \n",
            "_________________________________________________________________\n",
            "block3_conv3 (Conv2D)        (None, 56, 56, 256)       590080    \n",
            "_________________________________________________________________\n",
            "block3_conv4 (Conv2D)        (None, 56, 56, 256)       590080    \n",
            "_________________________________________________________________\n",
            "block3_pool (MaxPooling2D)   (None, 28, 28, 256)       0         \n",
            "_________________________________________________________________\n",
            "block4_conv1 (Conv2D)        (None, 28, 28, 512)       1180160   \n",
            "_________________________________________________________________\n",
            "block4_conv2 (Conv2D)        (None, 28, 28, 512)       2359808   \n",
            "_________________________________________________________________\n",
            "block4_conv3 (Conv2D)        (None, 28, 28, 512)       2359808   \n",
            "_________________________________________________________________\n",
            "block4_conv4 (Conv2D)        (None, 28, 28, 512)       2359808   \n",
            "_________________________________________________________________\n",
            "block4_pool (MaxPooling2D)   (None, 14, 14, 512)       0         \n",
            "_________________________________________________________________\n",
            "block5_conv1 (Conv2D)        (None, 14, 14, 512)       2359808   \n",
            "_________________________________________________________________\n",
            "block5_conv2 (Conv2D)        (None, 14, 14, 512)       2359808   \n",
            "_________________________________________________________________\n",
            "block5_conv3 (Conv2D)        (None, 14, 14, 512)       2359808   \n",
            "_________________________________________________________________\n",
            "block5_conv4 (Conv2D)        (None, 14, 14, 512)       2359808   \n",
            "_________________________________________________________________\n",
            "block5_pool (MaxPooling2D)   (None, 7, 7, 512)         0         \n",
            "_________________________________________________________________\n",
            "flatten_1 (Flatten)          (None, 25088)             0         \n",
            "_________________________________________________________________\n",
            "dense_3 (Dense)              (None, 500)               12544500  \n",
            "_________________________________________________________________\n",
            "dense_4 (Dense)              (None, 500)               250500    \n",
            "_________________________________________________________________\n",
            "dense_5 (Dense)              (None, 13)                6513      \n",
            "=================================================================\n",
            "Total params: 32,825,897\n",
            "Trainable params: 12,801,513\n",
            "Non-trainable params: 20,024,384\n",
            "_________________________________________________________________\n"
          ],
          "name": "stdout"
        }
      ]
    },
    {
      "cell_type": "code",
      "metadata": {
        "colab": {
          "base_uri": "https://localhost:8080/"
        },
        "id": "b7K6iRK3uJxb",
        "outputId": "0fff82f9-9ee7-4684-bcce-d85931989a7e"
      },
      "source": [
        "epochs = 10\n",
        "\n",
        "history = model_two.fit(\n",
        "    train_gen, \n",
        "    epochs=epochs,\n",
        "    verbose = 1,\n",
        "    validation_data=test_gen\n",
        "    )\n",
        "model.save_weights('model_VGG19.h5')"
      ],
      "execution_count": null,
      "outputs": [
        {
          "output_type": "stream",
          "text": [
            "Epoch 1/10\n",
            "50/50 [==============================] - 25s 478ms/step - loss: 4.0088 - accuracy: 0.1495 - val_loss: 1.7959 - val_accuracy: 0.4321\n",
            "Epoch 2/10\n",
            "50/50 [==============================] - 24s 473ms/step - loss: 1.3044 - accuracy: 0.5721 - val_loss: 1.0254 - val_accuracy: 0.6556\n",
            "Epoch 3/10\n",
            "50/50 [==============================] - 24s 475ms/step - loss: 0.7652 - accuracy: 0.7206 - val_loss: 0.8286 - val_accuracy: 0.7111\n",
            "Epoch 4/10\n",
            "50/50 [==============================] - 24s 471ms/step - loss: 0.5247 - accuracy: 0.8357 - val_loss: 0.7227 - val_accuracy: 0.7272\n",
            "Epoch 5/10\n",
            "50/50 [==============================] - 24s 473ms/step - loss: 0.4647 - accuracy: 0.8400 - val_loss: 0.6969 - val_accuracy: 0.7457\n",
            "Epoch 6/10\n",
            "50/50 [==============================] - 24s 471ms/step - loss: 0.3133 - accuracy: 0.8914 - val_loss: 0.6869 - val_accuracy: 0.7778\n",
            "Epoch 7/10\n",
            "50/50 [==============================] - 24s 471ms/step - loss: 0.2724 - accuracy: 0.9036 - val_loss: 0.6573 - val_accuracy: 0.7864\n",
            "Epoch 8/10\n",
            "50/50 [==============================] - 24s 475ms/step - loss: 0.2578 - accuracy: 0.9182 - val_loss: 0.6543 - val_accuracy: 0.7901\n",
            "Epoch 9/10\n",
            "50/50 [==============================] - 24s 475ms/step - loss: 0.1409 - accuracy: 0.9665 - val_loss: 0.9943 - val_accuracy: 0.7025\n",
            "Epoch 10/10\n",
            "50/50 [==============================] - 24s 473ms/step - loss: 0.2477 - accuracy: 0.9167 - val_loss: 0.7837 - val_accuracy: 0.7716\n"
          ],
          "name": "stdout"
        }
      ]
    },
    {
      "cell_type": "code",
      "metadata": {
        "colab": {
          "base_uri": "https://localhost:8080/"
        },
        "id": "RgZ2shrRv3OY",
        "outputId": "b942fc7d-a3ae-4233-b194-4805aa3bf7eb"
      },
      "source": [
        "test_gen.reset()\n",
        "Y_pred = model_two.predict_generator(test_gen)\n",
        "classes = test_gen.classes[test_gen.index_array]\n",
        "y_pred = np.argmax(Y_pred, axis= -1)\n",
        "\n",
        "\n",
        "print(classification_report(test_gen.classes[test_gen.index_array], y_pred, target_names=target_names))\n",
        "\n"
      ],
      "execution_count": null,
      "outputs": [
        {
          "output_type": "stream",
          "text": [
            "/usr/local/lib/python3.7/dist-packages/tensorflow/python/keras/engine/training.py:1905: UserWarning: `Model.predict_generator` is deprecated and will be removed in a future version. Please use `Model.predict`, which supports generators.\n",
            "  warnings.warn('`Model.predict_generator` is deprecated and '\n"
          ],
          "name": "stderr"
        },
        {
          "output_type": "stream",
          "text": [
            "              precision    recall  f1-score   support\n",
            "\n",
            "          BB       0.74      0.76      0.75        67\n",
            "          BK       0.68      0.91      0.78        35\n",
            "          BN       0.60      0.86      0.70        58\n",
            "          BP       0.86      0.94      0.90        65\n",
            "          BQ       0.90      0.71      0.79        62\n",
            "          BR       0.72      0.63      0.67        67\n",
            "       Empty       1.00      0.97      0.99        71\n",
            "          WB       1.00      0.49      0.65        72\n",
            "          WK       0.92      0.32      0.48        37\n",
            "          WN       0.73      0.59      0.66        69\n",
            "          WP       0.78      0.91      0.84        67\n",
            "          WQ       0.66      0.93      0.77        67\n",
            "          WR       0.75      0.89      0.81        73\n",
            "\n",
            "    accuracy                           0.77       810\n",
            "   macro avg       0.80      0.76      0.75       810\n",
            "weighted avg       0.80      0.77      0.76       810\n",
            "\n"
          ],
          "name": "stdout"
        }
      ]
    },
    {
      "cell_type": "code",
      "metadata": {
        "colab": {
          "base_uri": "https://localhost:8080/"
        },
        "id": "2Bka3hrNwZlp",
        "outputId": "de515e53-5405-4e22-f04e-16b1b59be12f"
      },
      "source": [
        "new_data = test_datagen.flow_from_directory(\n",
        "    '/content/drive/MyDrive/cropped_images/',\n",
        "    target_size = image_size,\n",
        "    batch_size = batch_size,\n",
        "    class_mode = 'categorical',\n",
        "    color_mode = 'rgb',\n",
        "    shuffle=False \n",
        ")"
      ],
      "execution_count": null,
      "outputs": [
        {
          "output_type": "stream",
          "text": [
            "Found 64 images belonging to 1 classes.\n"
          ],
          "name": "stdout"
        }
      ]
    },
    {
      "cell_type": "code",
      "metadata": {
        "id": "PJfiUXkFv71k"
      },
      "source": [
        "#for predicting peices from cropped images\n",
        "\n",
        "new_data.reset()\n",
        "Y_pred = model.predict_generator(new_data)\n",
        "classes = new_data.classes[new_data.index_array]\n",
        "y_pred = np.argmax(Y_pred, axis= -1)"
      ],
      "execution_count": null,
      "outputs": []
    },
    {
      "cell_type": "code",
      "metadata": {
        "colab": {
          "base_uri": "https://localhost:8080/"
        },
        "id": "l60Bgl44wj0W",
        "outputId": "c5299dd1-0f02-4e4a-909d-60bbc63a9c2b"
      },
      "source": [
        "model3 = VGG16(weights='imagenet', include_top=False, input_shape=(224,224,3)) \n",
        " \n",
        "# Freeze convolutional layers\n",
        "for layer in model3.layers:\n",
        "    layer.trainable = False    \n",
        "\n",
        "# Establish new fully connected block\n",
        "x = model3.output\n",
        "x = Flatten()(x)  # flatten from convolution tensor output  \n",
        "x = Dense(500, activation='sigmoid')(x) # number of layers and units are hyperparameters, as usual\n",
        "x = Dense(500, activation='sigmoid')(x)\n",
        "predictions = Dense(13, activation='softmax')(x) # should match # of classes predicted\n",
        "\n"
      ],
      "execution_count": null,
      "outputs": [
        {
          "output_type": "stream",
          "text": [
            "Downloading data from https://storage.googleapis.com/tensorflow/keras-applications/vgg16/vgg16_weights_tf_dim_ordering_tf_kernels_notop.h5\n",
            "58892288/58889256 [==============================] - 1s 0us/step\n"
          ],
          "name": "stdout"
        }
      ]
    },
    {
      "cell_type": "code",
      "metadata": {
        "colab": {
          "base_uri": "https://localhost:8080/"
        },
        "id": "jbIzH3F8fEJt",
        "outputId": "ceb45ed7-1459-427c-b08e-f984a3d728d3"
      },
      "source": [
        "# this is the model we will train\n",
        "model3 = Model(inputs=model3.input, outputs=predictions)\n",
        "model3.compile(optimizer='adam', loss='categorical_crossentropy', metrics=['categorical_accuracy'])\n",
        "\n",
        "model3.summary()\n"
      ],
      "execution_count": null,
      "outputs": [
        {
          "output_type": "stream",
          "text": [
            "Model: \"model\"\n",
            "_________________________________________________________________\n",
            "Layer (type)                 Output Shape              Param #   \n",
            "=================================================================\n",
            "input_1 (InputLayer)         [(None, 224, 224, 3)]     0         \n",
            "_________________________________________________________________\n",
            "block1_conv1 (Conv2D)        (None, 224, 224, 64)      1792      \n",
            "_________________________________________________________________\n",
            "block1_conv2 (Conv2D)        (None, 224, 224, 64)      36928     \n",
            "_________________________________________________________________\n",
            "block1_pool (MaxPooling2D)   (None, 112, 112, 64)      0         \n",
            "_________________________________________________________________\n",
            "block2_conv1 (Conv2D)        (None, 112, 112, 128)     73856     \n",
            "_________________________________________________________________\n",
            "block2_conv2 (Conv2D)        (None, 112, 112, 128)     147584    \n",
            "_________________________________________________________________\n",
            "block2_pool (MaxPooling2D)   (None, 56, 56, 128)       0         \n",
            "_________________________________________________________________\n",
            "block3_conv1 (Conv2D)        (None, 56, 56, 256)       295168    \n",
            "_________________________________________________________________\n",
            "block3_conv2 (Conv2D)        (None, 56, 56, 256)       590080    \n",
            "_________________________________________________________________\n",
            "block3_conv3 (Conv2D)        (None, 56, 56, 256)       590080    \n",
            "_________________________________________________________________\n",
            "block3_pool (MaxPooling2D)   (None, 28, 28, 256)       0         \n",
            "_________________________________________________________________\n",
            "block4_conv1 (Conv2D)        (None, 28, 28, 512)       1180160   \n",
            "_________________________________________________________________\n",
            "block4_conv2 (Conv2D)        (None, 28, 28, 512)       2359808   \n",
            "_________________________________________________________________\n",
            "block4_conv3 (Conv2D)        (None, 28, 28, 512)       2359808   \n",
            "_________________________________________________________________\n",
            "block4_pool (MaxPooling2D)   (None, 14, 14, 512)       0         \n",
            "_________________________________________________________________\n",
            "block5_conv1 (Conv2D)        (None, 14, 14, 512)       2359808   \n",
            "_________________________________________________________________\n",
            "block5_conv2 (Conv2D)        (None, 14, 14, 512)       2359808   \n",
            "_________________________________________________________________\n",
            "block5_conv3 (Conv2D)        (None, 14, 14, 512)       2359808   \n",
            "_________________________________________________________________\n",
            "block5_pool (MaxPooling2D)   (None, 7, 7, 512)         0         \n",
            "_________________________________________________________________\n",
            "flatten (Flatten)            (None, 25088)             0         \n",
            "_________________________________________________________________\n",
            "dense (Dense)                (None, 500)               12544500  \n",
            "_________________________________________________________________\n",
            "dense_1 (Dense)              (None, 500)               250500    \n",
            "_________________________________________________________________\n",
            "dense_2 (Dense)              (None, 13)                6513      \n",
            "=================================================================\n",
            "Total params: 27,516,201\n",
            "Trainable params: 12,801,513\n",
            "Non-trainable params: 14,714,688\n",
            "_________________________________________________________________\n"
          ],
          "name": "stdout"
        }
      ]
    },
    {
      "cell_type": "code",
      "metadata": {
        "colab": {
          "background_save": true,
          "base_uri": "https://localhost:8080/"
        },
        "id": "2A0ixnlEfQqk",
        "outputId": "1364b18d-3add-4f3a-83d5-36c28086c467"
      },
      "source": [
        "epochs = 10\n",
        "\n",
        "history = model3.fit(\n",
        "    train_gen, \n",
        "    epochs=epochs,\n",
        "    verbose = 1,\n",
        "    validation_data=test_gen\n",
        "    )\n",
        "model3.save_weights('model3_s.h5')"
      ],
      "execution_count": null,
      "outputs": [
        {
          "output_type": "stream",
          "text": [
            "Epoch 1/10\n",
            "50/50 [==============================] - 670s 13s/step - loss: 2.6856 - categorical_accuracy: 0.1114 - val_loss: 2.1804 - val_categorical_accuracy: 0.2321\n",
            "Epoch 2/10\n",
            "50/50 [==============================] - 22s 438ms/step - loss: 2.0067 - categorical_accuracy: 0.3307 - val_loss: 1.6042 - val_categorical_accuracy: 0.4321\n",
            "Epoch 3/10\n",
            "50/50 [==============================] - 22s 440ms/step - loss: 1.4177 - categorical_accuracy: 0.5129 - val_loss: 1.2194 - val_categorical_accuracy: 0.6074\n",
            "Epoch 4/10\n",
            "50/50 [==============================] - 22s 441ms/step - loss: 1.0282 - categorical_accuracy: 0.7076 - val_loss: 0.9920 - val_categorical_accuracy: 0.6963\n",
            "Epoch 5/10\n",
            "50/50 [==============================] - 22s 444ms/step - loss: 0.7787 - categorical_accuracy: 0.7615 - val_loss: 0.7637 - val_categorical_accuracy: 0.7556\n",
            "Epoch 6/10\n",
            "50/50 [==============================] - 22s 441ms/step - loss: 0.5349 - categorical_accuracy: 0.8777 - val_loss: 0.6888 - val_categorical_accuracy: 0.7889\n",
            "Epoch 7/10\n",
            "50/50 [==============================] - 22s 441ms/step - loss: 0.4023 - categorical_accuracy: 0.9197 - val_loss: 0.5960 - val_categorical_accuracy: 0.8025\n",
            "Epoch 8/10\n",
            "50/50 [==============================] - 22s 438ms/step - loss: 0.3080 - categorical_accuracy: 0.9351 - val_loss: 0.5225 - val_categorical_accuracy: 0.8296\n",
            "Epoch 9/10\n",
            "50/50 [==============================] - 22s 442ms/step - loss: 0.2358 - categorical_accuracy: 0.9667 - val_loss: 0.5651 - val_categorical_accuracy: 0.8025\n",
            "Epoch 10/10\n",
            "50/50 [==============================] - 22s 438ms/step - loss: 0.1861 - categorical_accuracy: 0.9642 - val_loss: 0.4765 - val_categorical_accuracy: 0.8519\n"
          ],
          "name": "stdout"
        }
      ]
    },
    {
      "cell_type": "code",
      "metadata": {
        "colab": {
          "base_uri": "https://localhost:8080/"
        },
        "id": "ry7TP_2-hjHB",
        "outputId": "c8f3ca13-5f6a-46ff-ec37-d0ba707ee22a"
      },
      "source": [
        "test_gen.reset()\n",
        "Y_pred = model3.predict_generator(test_gen)\n",
        "classes = test_gen.classes[test_gen.index_array]\n",
        "y_pred = np.argmax(Y_pred, axis= -1)\n",
        "\n",
        "\n",
        "print(classification_report(test_gen.classes[test_gen.index_array], y_pred, target_names=target_names))\n"
      ],
      "execution_count": null,
      "outputs": [
        {
          "output_type": "stream",
          "text": [
            "/usr/local/lib/python3.7/dist-packages/tensorflow/python/keras/engine/training.py:1905: UserWarning: `Model.predict_generator` is deprecated and will be removed in a future version. Please use `Model.predict`, which supports generators.\n",
            "  warnings.warn('`Model.predict_generator` is deprecated and '\n"
          ],
          "name": "stderr"
        },
        {
          "output_type": "stream",
          "text": [
            "              precision    recall  f1-score   support\n",
            "\n",
            "          BB       0.98      0.67      0.80        67\n",
            "          BK       0.87      0.77      0.82        35\n",
            "          BN       0.80      0.81      0.80        58\n",
            "          BP       0.95      0.91      0.93        65\n",
            "          BQ       0.82      0.87      0.84        62\n",
            "          BR       0.69      0.91      0.78        67\n",
            "       Empty       1.00      0.97      0.99        71\n",
            "          WB       0.72      0.75      0.73        72\n",
            "          WK       0.92      0.32      0.48        37\n",
            "          WN       0.79      0.75      0.77        69\n",
            "          WP       0.75      0.93      0.83        67\n",
            "          WQ       0.67      0.96      0.79        67\n",
            "          WR       0.93      0.71      0.81        73\n",
            "\n",
            "    accuracy                           0.81       810\n",
            "   macro avg       0.84      0.80      0.80       810\n",
            "weighted avg       0.83      0.81      0.81       810\n",
            "\n"
          ],
          "name": "stdout"
        }
      ]
    },
    {
      "cell_type": "code",
      "metadata": {
        "id": "xUaCMECfjltQ"
      },
      "source": [
        "model4 = VGG19(weights='imagenet', include_top=False, input_shape=(224,224,3)) \n",
        " \n",
        "# Freeze convolutional layers\n",
        "for layer in model4.layers:\n",
        "    layer.trainable = False    \n",
        "\n",
        "# Establish new fully connected block\n",
        "x = model4.output\n",
        "x = Flatten()(x)  # flatten from convolution tensor output  \n",
        "x = Dense(500, activation='sigmoid')(x) # number of layers and units are hyperparameters, as usual\n",
        "x = Dense(500, activation='sigmoid')(x)\n",
        "predictions = Dense(13, activation='softmax')(x) # should match # of classes predicted\n",
        "\n"
      ],
      "execution_count": null,
      "outputs": []
    },
    {
      "cell_type": "code",
      "metadata": {
        "id": "RVUCeuVmmco9"
      },
      "source": [
        "# this is the model we will train\n",
        "model4 = Model(inputs=model4.input, outputs=predictions)\n",
        "model4.compile(optimizer='adam', loss='categorical_crossentropy', metrics=['categorical_accuracy'])\n",
        "\n",
        "model4.summary()"
      ],
      "execution_count": null,
      "outputs": []
    },
    {
      "cell_type": "code",
      "metadata": {
        "id": "Xewov_k0mig9"
      },
      "source": [
        "epochs = 10\n",
        "\n",
        "history = model4.fit(\n",
        "    train_gen, \n",
        "    epochs=epochs,\n",
        "    verbose = 1,\n",
        "    validation_data=test_gen\n",
        "    )\n",
        "model4.save_weights('model3_s.h5')"
      ],
      "execution_count": null,
      "outputs": []
    }
  ]
}